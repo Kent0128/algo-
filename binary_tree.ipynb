{
 "cells": [
  {
   "cell_type": "code",
   "execution_count": 1,
   "metadata": {},
   "outputs": [],
   "source": [
    "class Node:\n",
    "    def __init__(self, bookID=None, title=None, authors=None, publisher=None, publicationDate=None, isbn_10=None, isbn_13=None):\n",
    "        self.bookID = bookID\n",
    "        self.title = title\n",
    "        self.authors = authors\n",
    "        self.publisher = publisher\n",
    "        self.publicationDate = publicationDate\n",
    "        self.isbn_10 = isbn_10\n",
    "        self.isbn_13 = isbn_13\n",
    "        self.leftNode = None\n",
    "        self.rightNode = None\n",
    "\n",
    "class BinaryTree:\n",
    "    def __init__(self):\n",
    "        self.root = None\n",
    "\n",
    "    def insertNode(self, curNode, newNode):\n",
    "        if curNode.bookID > newNode.bookID:\n",
    "            if None == curNode.leftNode:\n",
    "                curNode.leftNode = newNode\n",
    "            else:\n",
    "                self.insertNode(curNode.leftNode, newNode)\n",
    "        else:\n",
    "            if None == curNode.rightNode:\n",
    "                curNode.rightNode = newNode\n",
    "            else:\n",
    "                self.insertNode(curNode.rightNode, newNode)\n",
    "\n",
    "    def insert(self, bookID, title, authors, publisher, publicationDate, isbn_10, isbn_13):\n",
    "        newNode = Node(bookID, title, authors, publisher, publicationDate, isbn_10, isbn_13)\n",
    "\n",
    "        if None == self.root:\n",
    "            self.root = newNode\n",
    "        else:\n",
    "            self.insertNode(self.root, newNode)\n",
    "\n",
    "    def preOrder(self, curNode):\n",
    "        if curNode!=None:\n",
    "            print(curNode.bookID)\n",
    "            self.preOrder(curNode.leftNode)\n",
    "            self.preOrder(curNode.rightNode)\n",
    "\n",
    "    def inOrder(self, curNode):\n",
    "        if curNode!=None:\n",
    "            self.inOrder(curNode.leftNode)\n",
    "            print(curNode.bookID)\n",
    "            self.inOrder(curNode.rightNode)\n",
    "\n",
    "    def postOrder(self, curNode):\n",
    "        if curNode!=None:\n",
    "            self.postOrder(curNode.leftNode)\n",
    "            self.postOrder(curNode.rightNode)\n",
    "            print(curNode.bookID)\n",
    "        "
   ]
  }
 ],
 "metadata": {
  "kernelspec": {
   "display_name": "Python 3",
   "language": "python",
   "name": "python3"
  },
  "language_info": {
   "codemirror_mode": {
    "name": "ipython",
    "version": 3
   },
   "file_extension": ".py",
   "mimetype": "text/x-python",
   "name": "python",
   "nbconvert_exporter": "python",
   "pygments_lexer": "ipython3",
   "version": "3.10.7"
  },
  "orig_nbformat": 4
 },
 "nbformat": 4,
 "nbformat_minor": 2
}
